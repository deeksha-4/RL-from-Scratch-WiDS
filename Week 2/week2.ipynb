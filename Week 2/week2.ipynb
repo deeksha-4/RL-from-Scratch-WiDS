{
 "cells": [
  {
   "cell_type": "markdown",
   "metadata": {},
   "source": [
    "### Assignment : Week 2\n",
    "## Finding best policies in simple MDPs\n",
    "\n",
    "Great work making the MDPs in Week 1!\n",
    "\n",
    "In this assignment, we'll use the simplest RL techniques - Policy and Value iteration to find the best policies (which maximize the discounted total reward) in our MDPs from last week.\n",
    "\n",
    "Feel free to use your own MDPs, or import them from the OpenAI Gym library.\n",
    "\n",
    "You can start this assignment during/after reading Grokking Ch-3."
   ]
  },
  {
   "cell_type": "markdown",
   "metadata": {},
   "source": [
    "Let us recall the equation to find the value function of agent's states under a policy $\\pi$ -\n",
    "$$v_{\\pi}(s) = \\sum _{a} \\pi(a|s) ~ \\left( ~ \\sum _{s', r} ~ p(s', r | s, a) ~ \\left[r + \\gamma v_{\\pi}(s') \\right] ~ \\right)$$\n",
    "\n",
    "We can observe that the value function $v_{\\pi}$ has a lot of circular dependencies on different states. \n",
    "\n",
    "To solve such equations, one of the ways is to iteratively calculate the RHS and replace the LHS by it until the $v_{\\pi}(s)$ values start to converge. \n",
    "\n",
    "The point of convergence makes all the equations simultaneously true and hence is the required solution."
   ]
  },
  {
   "cell_type": "markdown",
   "metadata": {},
   "source": [
    "Let us calculate the value functions for some policies in the MDPs we created last week."
   ]
  },
  {
   "cell_type": "markdown",
   "metadata": {},
   "source": [
    "## Environment 0 - Bandit Walk\n",
    "\n",
    "Again, we consider the BW environment on Page 39.\n",
    "\n",
    "Let's consider what seems to be the most natural policy - always go Right.\n",
    "\n",
    "This environment is so simple, that we can simply calculate the value functions by hand."
   ]
  },
  {
   "cell_type": "markdown",
   "metadata": {},
   "source": [
    "Note that by convention for the terminal states, \n",
    "$$v_{\\pi}(0) = v_{\\pi}(2) = 0$$\n",
    "\n",
    "Now, \n",
    "$$v_{\\pi}(1) = 1 + \\gamma \\cdot v_{\\pi}(2) = 1$$\n",
    "\n",
    "Note both the summations just have one term due to the deterministic nature of the environment and the policy (check which summation was corresponding to which stochastic variable)"
   ]
  },
  {
   "cell_type": "markdown",
   "metadata": {},
   "source": [
    "## Environment 1 - Slippery Walk\n",
    "\n",
    "Let's now try to solve the SWF environment from Page 67 for the naturally adversarial policy - always go Left.\n",
    "\n",
    "Since we have 5 coupled equations for states 1-5 with 5 unknown variables, we'll use Python to bruteforce the solution.\n",
    "\n",
    "To align with Grokking, let us consider an unusual $\\gamma = 1$."
   ]
  },
  {
   "cell_type": "code",
   "execution_count": 5,
   "metadata": {},
   "outputs": [
    {
     "name": "stdout",
     "output_type": "stream",
     "text": [
      "Defaulting to user installation because normal site-packages is not writeable\n",
      "Requirement already satisfied: gym in /home/deeksha/.local/lib/python3.10/site-packages (0.26.2)\n",
      "Requirement already satisfied: numpy>=1.18.0 in /home/deeksha/.local/lib/python3.10/site-packages (from gym) (1.23.5)\n",
      "Requirement already satisfied: cloudpickle>=1.2.0 in /home/deeksha/.local/lib/python3.10/site-packages (from gym) (3.0.0)\n",
      "Requirement already satisfied: gym-notices>=0.0.4 in /home/deeksha/.local/lib/python3.10/site-packages (from gym) (0.0.8)\n",
      "\n",
      "\u001b[1m[\u001b[0m\u001b[34;49mnotice\u001b[0m\u001b[1;39;49m]\u001b[0m\u001b[39;49m A new release of pip is available: \u001b[0m\u001b[31;49m23.3.1\u001b[0m\u001b[39;49m -> \u001b[0m\u001b[32;49m23.3.2\u001b[0m\n",
      "\u001b[1m[\u001b[0m\u001b[34;49mnotice\u001b[0m\u001b[1;39;49m]\u001b[0m\u001b[39;49m To update, run: \u001b[0m\u001b[32;49mpython3 -m pip install --upgrade pip\u001b[0m\n",
      "Defaulting to user installation because normal site-packages is not writeable\n",
      "Collecting gym-walk\n",
      "  Cloning https://github.com/mimoralea/gym-walk to /tmp/pip-install-yvc1j8wg/gym-walk_100f008d3fb547389d19c3247058aef3\n",
      "  Running command git clone --filter=blob:none --quiet https://github.com/mimoralea/gym-walk /tmp/pip-install-yvc1j8wg/gym-walk_100f008d3fb547389d19c3247058aef3\n",
      "  Resolved https://github.com/mimoralea/gym-walk to commit 5999016267d6de2f5a63307fb00dfd63de319ac1\n",
      "  Preparing metadata (setup.py) ... \u001b[?25ldone\n",
      "\u001b[?25hRequirement already satisfied: gym in /home/deeksha/.local/lib/python3.10/site-packages (from gym-walk) (0.26.2)\n",
      "Requirement already satisfied: numpy>=1.18.0 in /home/deeksha/.local/lib/python3.10/site-packages (from gym->gym-walk) (1.23.5)\n",
      "Requirement already satisfied: cloudpickle>=1.2.0 in /home/deeksha/.local/lib/python3.10/site-packages (from gym->gym-walk) (3.0.0)\n",
      "Requirement already satisfied: gym-notices>=0.0.4 in /home/deeksha/.local/lib/python3.10/site-packages (from gym->gym-walk) (0.0.8)\n",
      "\n",
      "\u001b[1m[\u001b[0m\u001b[34;49mnotice\u001b[0m\u001b[1;39;49m]\u001b[0m\u001b[39;49m A new release of pip is available: \u001b[0m\u001b[31;49m23.3.1\u001b[0m\u001b[39;49m -> \u001b[0m\u001b[32;49m23.3.2\u001b[0m\n",
      "\u001b[1m[\u001b[0m\u001b[34;49mnotice\u001b[0m\u001b[1;39;49m]\u001b[0m\u001b[39;49m To update, run: \u001b[0m\u001b[32;49mpython3 -m pip install --upgrade pip\u001b[0m\n"
     ]
    }
   ],
   "source": [
    "# Step 0 is to import stuff\n",
    "!pip install gym\n",
    "!pip install git+https://github.com/mimoralea/gym-walk#egg=gym-walk\n",
    "# !pip install gym_walk\n",
    "\n",
    "import gym\n",
    "import gym_walk\n",
    "import numpy as np\n",
    "from gym.envs.toy_text.frozen_lake import generate_random_map"
   ]
  },
  {
   "cell_type": "code",
   "execution_count": 6,
   "metadata": {},
   "outputs": [],
   "source": [
    "# Step 1 is to get the MDP\n",
    "\n",
    "env = gym.make('SlipperyWalkFive-v0')\n",
    "swf_mdp = env.P\n",
    "# swf_mdp\n",
    "\n",
    "# Note that in Gym, action \"Left\" is \"0\" and \"Right\" is \"1\""
   ]
  },
  {
   "cell_type": "code",
   "execution_count": 7,
   "metadata": {},
   "outputs": [],
   "source": [
    "# Step 2 is to write the policy\n",
    "\n",
    "\n",
    "\n",
    "# Or you can do it randomly\n",
    "# pi = dict()\n",
    "# for state in mdp:\n",
    "#     pi[state] = np.random.choice(mdp[state].keys())"
   ]
  },
  {
   "cell_type": "code",
   "execution_count": 8,
   "metadata": {},
   "outputs": [],
   "source": [
    "# Step 3 is computing the value function for this envi and policy\n",
    "\n",
    "# Let us start with a random value function\n",
    "\n",
    "val = dict()\n",
    "for state in swf_mdp:\n",
    "    val[state] = np.random.random()\n",
    "\n",
    "# Since 0 and 6 are terminal states, we know their values are 0\n",
    "\n",
    "val[0] = 0\n",
    "val[6] = 0\n",
    "\n",
    "#Or you could do it randomly, remember to set the terminal states to 0. You can also implement this while evaluating the value function using \n",
    "# val = dict()\n",
    "# for state in mdp:\n",
    "#     val[state] = np.random.random()\n",
    "#     if mdp[state][0][0][0] == 0: # if the first action in the first outcome of the first state is 0, then it is a terminal state\n",
    "#         val[state] = 0\n",
    "\n",
    "#instead of doing thsi you can simply intialize the value function to 0 for all states \n",
    "# for state in swf_mdp:\n",
    "#   val[state] = 0"
   ]
  },
  {
   "cell_type": "code",
   "execution_count": 9,
   "metadata": {},
   "outputs": [],
   "source": [
    "def get_new_value_fn(val, mdp, pi, gamma = 1.0):\n",
    "    \n",
    "    new_val = dict()\n",
    "    # Complete this function to get the new value function given the old value function and the policy\n",
    "    # v(k) = SUM_a SUM_r,s' p(r, s' | s, a) (r+gamma*v(k-1))\n",
    "    for state in val:\n",
    "        # only left action possible => sum1 is just one term\n",
    "        # also since its deterministic only one reward and next state are possible\n",
    "        # so its just r + Y*v(k-1)\n",
    "        k = 0\n",
    "        for t in mdp[state][0]:\n",
    "            k += t[0]*(t[2] + gamma*(val[t[1]]))\n",
    "        new_val[state] = k\n",
    "            \n",
    "    return new_val"
   ]
  },
  {
   "cell_type": "code",
   "execution_count": 10,
   "metadata": {},
   "outputs": [],
   "source": [
    "def diff(val, new_val):\n",
    "    m = 0\n",
    "    for i in val:\n",
    "        m = max(m, abs(val[i]-new_val[i]))\n",
    "    return m        "
   ]
  },
  {
   "cell_type": "code",
   "execution_count": 12,
   "metadata": {},
   "outputs": [],
   "source": [
    "#Use to above function to get the new value function, also print how many iterations it took to converge\n",
    "def policy_evaluation(val, mdp, pi, epsilon=1e-10, gamma=1.0):\n",
    "    count = 0\n",
    "    # Complete this function to iteratively caluculate the value function until the difference between the new and old value function is less than epsilon\n",
    "    # Also return the number of iterations it took to converge\n",
    "    while True:\n",
    "        new_val = get_new_value_fn(val, mdp, pi, gamma)\n",
    "        count += 1\n",
    "        if diff(val, new_val) <= epsilon:\n",
    "            val = new_val\n",
    "            break\n",
    "        val = new_val\n",
    "    \n",
    "    return val, count \n",
    "\n",
    "# val, c = policy_evaluation(val, swf_mdp, pi)\n",
    "# print(val, c)"
   ]
  },
  {
   "cell_type": "code",
   "execution_count": 13,
   "metadata": {},
   "outputs": [],
   "source": [
    "def get_q(val, mdp, gamma):\n",
    "    q = {}\n",
    "    for state in mdp:\n",
    "        q[state] = {}\n",
    "        for action in mdp[state]:\n",
    "            q[state][action] = 0\n",
    "            for thing in mdp[state][action]:\n",
    "                prob, next_state, reward, done = thing\n",
    "                q[state][action] += prob*(reward + val[next_state]*gamma*(not done))\n",
    "                \n",
    "    return q"
   ]
  },
  {
   "cell_type": "code",
   "execution_count": 14,
   "metadata": {},
   "outputs": [],
   "source": [
    "# Perform policy improvement using the policy and the value function and return a new policy, the action value function should be a nested dictionary\n",
    "def policy_improvement(val, mdp, gamma=1.0):\n",
    "    new_pi = dict()\n",
    "    q = get_q(val, mdp, gamma)\n",
    "    # Complete this function to get the new policy given the value function and the mdp\n",
    "    for state in q:\n",
    "        max_val = 0\n",
    "        max_action = 0\n",
    "        for action in q[state]:\n",
    "            if q[state][action] >= max_val:\n",
    "                max_action = action\n",
    "                max_val = q[state][action]\n",
    "        new_pi[state] = max_action          \n",
    "    val = get_new_value_fn(val, mdp, new_pi)\n",
    "#     q = get_q(val, mdp, gamma)\n",
    "    return new_pi\n"
   ]
  },
  {
   "cell_type": "code",
   "execution_count": 15,
   "metadata": {},
   "outputs": [],
   "source": [
    "def diff_pi(pi1, pi2):\n",
    "    m = 0\n",
    "    for i in pi1:\n",
    "        m = max(m, abs(pi1[i] - pi2[i]))\n",
    "    return m"
   ]
  },
  {
   "cell_type": "code",
   "execution_count": 20,
   "metadata": {},
   "outputs": [
    {
     "name": "stdout",
     "output_type": "stream",
     "text": [
      "{0: 0, 1: 0, 2: 0, 3: 0, 4: 0, 5: 0, 6: 0}\n",
      "{0: 1, 1: 1, 2: 1, 3: 1, 4: 1, 5: 1, 6: 1}\n",
      "{0: 1, 1: 1, 2: 1, 3: 1, 4: 1, 5: 1, 6: 1} {0: 0.0, 1: 0.002747252786540573, 2: 0.010989011106874468, 3: 0.035714285950012664, 4: 0.10989011024370032, 5: 0.33241758277117284, 6: 0.0} 2\n"
     ]
    }
   ],
   "source": [
    "# Use the above functions to get the optimal policy and optimal value function and return the total number of iterations it took to converge\n",
    "# Create a random policy and value function to start with or use the ones defined above\n",
    "def policy_iteration(mdp, epsilon=1e-10, gamma=1.0):\n",
    "    pi = {\n",
    "        0 : 0,\n",
    "        1 : 0,\n",
    "        2 : 0,\n",
    "        3 : 0,\n",
    "        4 : 0,\n",
    "        5 : 0,\n",
    "        6 : 0\n",
    "    }\n",
    "    \n",
    "    val = dict()\n",
    "    for state in mdp:\n",
    "        val[state] = np.random.random()\n",
    "\n",
    "    val[0] = 0\n",
    "    val[len(val)-1] = 0\n",
    "    count = 0\n",
    "    # Complete this function to get the optimal policy and value function and return the total number of iterations it took to converge\n",
    "    while True:   \n",
    "        print(pi)\n",
    "        val, c = policy_evaluation(val, mdp, pi)\n",
    "        new_policy = policy_improvement(val, mdp, gamma)\n",
    "        count += 1\n",
    "        if diff_pi(pi, new_policy) == 0:\n",
    "            break\n",
    "        pi = new_policy\n",
    "    return pi, val, count\n",
    "\n",
    "pi, val, count = policy_iteration(swf_mdp)\n",
    "print(pi, val, count)"
   ]
  },
  {
   "cell_type": "code",
   "execution_count": 21,
   "metadata": {},
   "outputs": [
    {
     "name": "stdout",
     "output_type": "stream",
     "text": [
      "{0: 1, 1: 1, 2: 1, 3: 1, 4: 1, 5: 1, 6: 1}\n",
      "({0: 0, 1: 1, 2: 1, 3: 1, 4: 1, 5: 1, 6: 0}, {0: 0, 1: 0.667582417090299, 2: 0.8901098896177716, 3: 0.9642857139576353, 4: 0.9890109888469496, 5: 0.9972527471980676, 6: 0}, 122)\n"
     ]
    }
   ],
   "source": [
    "#Now perform value iteration, note that the value function is a dictionary and not a list, also return the number of iterations it took to converge\n",
    "def value_iteration(mdp, gamma=1.0, epsilon=1e-10):\n",
    "    val = {s: 0 for s in mdp}\n",
    "    count = 0\n",
    "    q = dict()\n",
    "    # Complete this function to get the optimal policy, optimal value function and return the total number of iterations it took to converge\n",
    "    \n",
    "    while True:\n",
    "        q = {}\n",
    "        for state in mdp:\n",
    "            q[state] = {}\n",
    "            for action in mdp[state]:\n",
    "                s = 0\n",
    "                for thing in mdp[state][action]:\n",
    "                    prob, nex, reward, done = thing\n",
    "                    s += prob* (reward + gamma*(not done)*val[nex])\n",
    "                q[state][action] = s\n",
    "        new_v = {}\n",
    "        new_pi = {}\n",
    "        \n",
    "        for state in q:\n",
    "            max_q = 0\n",
    "            max_action = 0\n",
    "            for action in q[state]:\n",
    "                if q[state][action] > max_q:\n",
    "                    max_action = action\n",
    "                    max_q = q[state][action]\n",
    "                    \n",
    "            new_pi[state] = max_action\n",
    "            new_v[state] = max_q\n",
    "            \n",
    "        pi = new_pi\n",
    "        count += 1\n",
    "            \n",
    "        if diff(new_v, val) <= epsilon:\n",
    "            val = new_v\n",
    "            break\n",
    "        \n",
    "        val = new_v                            \n",
    "                    \n",
    "#     pi = {s: max(q[s], key=q[s].get) for s in mdp}\n",
    "    return pi, val, count\n",
    "    \n",
    "print(pi)\n",
    "print(value_iteration(swf_mdp))"
   ]
  },
  {
   "cell_type": "markdown",
   "metadata": {},
   "source": [
    "## Enviroment 2 - Frozen Lake\n",
    "\n",
    "Repeat the above steps for the frozen lake environment. Don't create new functions , use the old functions.\n",
    "\n",
    "You can also write a function `test_policy()` to test your policy after training to find the number of times you reached the goal state"
   ]
  },
  {
   "cell_type": "markdown",
   "metadata": {},
   "source": []
  },
  {
   "cell_type": "code",
   "execution_count": 44,
   "metadata": {},
   "outputs": [],
   "source": [
    "env2 = gym.make('FrozenLake-v1',desc=generate_random_map(size=4))\n",
    "mdp2 = env2.P"
   ]
  },
  {
   "cell_type": "code",
   "execution_count": 1,
   "metadata": {},
   "outputs": [],
   "source": [
    "# print(mdp2)"
   ]
  },
  {
   "cell_type": "code",
   "execution_count": 45,
   "metadata": {},
   "outputs": [],
   "source": [
    "pi1, val1, count1 = policy_iteration(mdp2)\n",
    "pi2, val2, count2 = value_iteration(mdp2)"
   ]
  },
  {
   "cell_type": "code",
   "execution_count": 46,
   "metadata": {},
   "outputs": [
    {
     "name": "stdout",
     "output_type": "stream",
     "text": [
      "{0: 0, 1: 0, 2: 2, 3: 2, 4: 0, 5: 1, 6: 1, 7: 1, 8: 0, 9: 0, 10: 2, 11: 1, 12: 0, 13: 0, 14: 0, 15: 0}\n",
      "{0: 0.43914104477415017, 1: 0.06271919566139295, 2: 0.19502242597415514, 3: 0.3131640839299231, 4: 0.43914104496688283, 5: 0.25797782817902487, 6: 0.3273256563050027, 7: 0.4313057419218617, 8: 0.43914104523944786, 9: 0.2720732439418666, 10: 0.5289767147874047, 11: 0.653427485563727, 12: 0.4391410454321804, 13: 0.35560714475516475, 14: 0.9875312441259391, 15: 0.0}\n",
      "2\n",
      "{0: 0, 1: 0, 2: 2, 3: 2, 4: 3, 5: 1, 6: 2, 7: 2, 8: 0, 9: 0, 10: 2, 11: 2, 12: 0, 13: 0, 14: 0, 15: 0}\n",
      "{0: 0.42307692232997196, 1: 0, 2: 0.9230769226622877, 3: 0.9999999995853646, 4: 0.4230769224779011, 5: 0.42307692274446385, 6: 0.8461538458213345, 7: 0.9999999996674882, 8: 0.4230769219976559, 9: 0, 10: 0.6153846152000852, 11: 0.9999999998154698, 12: 0.4230769217311454, 13: 0.21153846079162325, 14: 0, 15: 0}\n",
      "319\n"
     ]
    }
   ],
   "source": [
    "print(pi1)\n",
    "print(val1)\n",
    "print(count1)\n",
    "print(pi2)\n",
    "print(val2)\n",
    "print(count2)"
   ]
  },
  {
   "cell_type": "code",
   "execution_count": 51,
   "metadata": {},
   "outputs": [],
   "source": [
    "def test_policy(pi, env, goalstate):\n",
    "    # Complete this function to test the policy\n",
    "    state = 0\n",
    "    while True:\n",
    "        action = pi[state]\n",
    "        states = []\n",
    "        prob = []\n",
    "        dones = {}\n",
    "        for thing in env[state][action]:\n",
    "            prob.append(thing[0])\n",
    "            states.append(thing[2])\n",
    "            dones[thing[2]] = thing[3]\n",
    "            \n",
    "        next_state = random.choices(states, prob, k=1)[0]\n",
    "        state = next_state\n",
    "        \n",
    "        if state == goalstate:\n",
    "            return True\n",
    "        \n",
    "        if dones[state] == 1:\n",
    "            return False\n",
    "        \n",
    "        \n",
    "    return False"
   ]
  },
  {
   "cell_type": "code",
   "execution_count": 22,
   "metadata": {},
   "outputs": [],
   "source": [
    "# import random\n",
    "\n",
    "# s = 0\n",
    "# f = 0\n",
    "# for _ in range(100):\n",
    "#     if test_policy(pi2, mdp2, 15):\n",
    "#         s += 1\n",
    "#     else:\n",
    "#         f += 1\n",
    "        \n",
    "# print(\"Agent reaches goal\", s, \"times\")\n",
    "# print(\"Agent fails\", f, \"times\")\n",
    "    "
   ]
  },
  {
   "cell_type": "code",
   "execution_count": null,
   "metadata": {},
   "outputs": [],
   "source": []
  }
 ],
 "metadata": {
  "kernelspec": {
   "display_name": "Python 3 (ipykernel)",
   "language": "python",
   "name": "python3"
  },
  "language_info": {
   "codemirror_mode": {
    "name": "ipython",
    "version": 3
   },
   "file_extension": ".py",
   "mimetype": "text/x-python",
   "name": "python",
   "nbconvert_exporter": "python",
   "pygments_lexer": "ipython3",
   "version": "3.10.12"
  }
 },
 "nbformat": 4,
 "nbformat_minor": 2
}
